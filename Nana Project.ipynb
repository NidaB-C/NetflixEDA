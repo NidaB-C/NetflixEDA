{
 "cells": [
  {
   "cell_type": "code",
   "execution_count": null,
   "id": "b8b5e95e-b809-4fb1-b4b0-61bc99a99817",
   "metadata": {},
   "outputs": [],
   "source": [
    "%matplotlib inline"
   ]
  },
  {
   "cell_type": "code",
   "execution_count": null,
   "id": "a7b03d2d-c70b-4a7a-9696-1faf793d9f7f",
   "metadata": {},
   "outputs": [],
   "source": [
    "#Dependencies\n",
    "import pandas as pd\n",
    "import matplotlib.pyplot as plt\n",
    "import seaborn as sns"
   ]
  },
  {
   "cell_type": "code",
   "execution_count": null,
   "id": "23d05845-c39f-44b5-82bd-fdab1893d4c3",
   "metadata": {},
   "outputs": [],
   "source": [
    "#Reading file into a DataFrame\n",
    "file = 'Resources/netflix_shows.csv'\n",
    "Netflix_data = pd.read_csv(file)\n",
    "Netflix_data"
   ]
  },
  {
   "cell_type": "code",
   "execution_count": null,
   "id": "84037227-f150-4d36-ba32-2f9e77fcd5c9",
   "metadata": {},
   "outputs": [],
   "source": [
    "#Filter data to begin from 2007\n",
    "Filtered_data = Netflix_data[Netflix_data['release_year']>=2007]\n",
    "Filtered_data"
   ]
  },
  {
   "cell_type": "code",
   "execution_count": null,
   "id": "1211909c-05a7-4802-8c44-bcc3be277b07",
   "metadata": {},
   "outputs": [],
   "source": [
    "#Splting genres into single columns\n",
    "exploded_genre = Filtered_data.explode('genres')\n",
    "split_columns = exploded_genre['genres'].str.strip(\"[]\").str.split(\", \", expand=True)\n",
    "\n",
    "splitted_columns = split_columns.apply(lambda x: x.str.strip(\"'\"))\n",
    "print(splitted_columns)"
   ]
  },
  {
   "cell_type": "code",
   "execution_count": null,
   "id": "79ca76e8-1128-4cee-8d61-9ab1f83ff000",
   "metadata": {},
   "outputs": [],
   "source": [
    "#Visualizing splited column\n",
    "exploded_genre[['genre1', 'genre2', 'genre3', 'genre4', 'genre5', 'genre6', 'genre7', 'genre8', 'genre9']] = split_columns[[0, 1, 2, 3, 4, 5, 6, 7, 8]]\n",
    "new_genre = exploded_genre.copy()\n",
    "new_genre[['genre1', 'genre2', 'genre3', 'genre4', 'genre5', 'genre6', 'genre7', 'genre8', 'genre9']] = split_columns[[0, 1, 2, 3, 4, 5, 6, 7, 8]]\n",
    "new_genre"
   ]
  },
  {
   "cell_type": "code",
   "execution_count": null,
   "id": "fd0702ca-6050-433e-bb72-e960f95a6cc5",
   "metadata": {},
   "outputs": [],
   "source": [
    "# Check unique values in 'genre6' to 'genre9'\n",
    "unique_values_genre6 = new_data['genre6'].unique()\n",
    "unique_values_genre7 = new_data['genre7'].unique()\n",
    "unique_values_genre8 = new_data['genre8'].unique()\n",
    "unique_values_genre9 = new_data['genre9'].unique()\n",
    "\n",
    "# Print the unique values\n",
    "print(\"Unique values in 'genre6':\", unique_values_genre6)\n",
    "print(\"Unique values in 'genre7':\", unique_values_genre7)\n",
    "print(\"Unique values in 'genre8':\", unique_values_genre8)\n",
    "print(\"Unique values in 'genre9':\", unique_values_genre9)"
   ]
  },
  {
   "cell_type": "code",
   "execution_count": null,
   "id": "5294b737-551b-4583-a424-f2c89614ddd3",
   "metadata": {},
   "outputs": [],
   "source": [
    "# Combine counts for the same genre across 'genre1' to 'genre9'\n",
    "total_genre_counts = new_data[['genre1', 'genre2', 'genre3', 'genre4', 'genre5', 'genre6', 'genre7', 'genre8', 'genre9']].stack().value_counts(dropna=False)\n",
    "\n",
    "# Display the total counts for each genre\n",
    "print(\"Total counts for each genre:\")\n",
    "print(total_genre_counts)"
   ]
  },
  {
   "cell_type": "code",
   "execution_count": null,
   "id": "c9c482ab-f4cb-4b09-b3f0-2f7daa4d3067",
   "metadata": {},
   "outputs": [],
   "source": [
    "# Extract release year and genres into a new DataFrame\n",
    "genres_columns = ['genre1', 'genre2', 'genre3', 'genre4', 'genre5', 'genre6', 'genre7', 'genre8', 'genre9']\n",
    "release_year_genres = new_genre[['release_year'] + genres_columns].copy()\n",
    "\n",
    "# Melt the DataFrame to have one row for each genre in each show\n",
    "melted_data = release_year_genres.melt('release_year', value_vars=genres_columns, var_name='genre', value_name='count')\n",
    "\n",
    "# Drop rows where the genre is NaN\n",
    "melted_data = melted_data.dropna(subset=['genre'])\n",
    "\n",
    "# Convert the release year to datetime if it's not already\n",
    "melted_data['release_year'] = pd.to_datetime(melted_data['release_year'], errors='coerce')\n",
    "\n",
    "# Group by release year and genre, then count the occurrences\n",
    "genre_counts_by_year = melted_data.groupby(['release_year', 'genre']).size().unstack(fill_value=0)\n",
    "\n",
    "# Display the new DataFrame\n",
    "print(genre_counts_by_year)"
   ]
  },
  {
   "cell_type": "code",
   "execution_count": null,
   "id": "9637317d-9b76-42ae-a346-ac1056181dd4",
   "metadata": {},
   "outputs": [],
   "source": [
    "total_genre_counts2 = new_genre[['genre1']].stack().value_counts(dropna=False)\n",
    "print(total_genre_counts2)"
   ]
  },
  {
   "cell_type": "code",
   "execution_count": null,
   "id": "c6f8413c-22f6-4c8e-8f35-70f1439940bb",
   "metadata": {},
   "outputs": [],
   "source": [
    "# Filter out rows where genre1 is not null\n",
    "filtered_data = new_genre[new_genre['genre1'].notnull()]\n",
    "\n",
    "# Group by release_year and genre1, count the occurrences\n",
    "genre_count_per_year = filtered_data.groupby(['release_year', 'genre1']).size().unstack()\n",
    "\n",
    "# Plotting a bar chart for a specific genre (e.g., 'drama')\n",
    "genre_to_plot = 'drama'\n",
    "if genre_to_plot in genre_count_per_year.columns:\n",
    "    plt.figure(figsize=(12, 6))\n",
    "    genre_count_per_year[genre_to_plot].plot(kind='bar', color='skyblue')\n",
    "    plt.title(f'Genre Production Patterns Over the Years for {genre_to_plot.capitalize()}')\n",
    "    plt.xlabel('Release Year')\n",
    "    plt.ylabel('Number of Productions')\n",
    "    plt.show()"
   ]
  },
  {
   "cell_type": "code",
   "execution_count": null,
   "id": "d177132e-146c-40a0-ad54-b60f4a536c36",
   "metadata": {},
   "outputs": [],
   "source": [
    "\n",
    "# Filter out rows where genre1 is not null\n",
    "filtered_data = Netflix_data[Netflix_data['genres'].notnull()]\n",
    "\n",
    "# Convert the 'genre1' column to lowercase for case-insensitivity\n",
    "Netflix_data['genres'] = Netflix_data['genres'].str.lower()\n",
    "\n",
    "# Group by release_year and genre1, count the occurrences\n",
    "genre_count_per_year = Netflix_data.groupby(['release_year', 'genres']).size().unstack()\n",
    "\n",
    "# Plotting a bar chart for a specific genre (e.g., 'drama')\n",
    "genre_to_plot = 'drama'\n",
    "if genre_to_plot in genre_count_per_year.columns:\n",
    "    %matplotlib notebook  # Use this line for interactive plots in Jupyter Notebook\n",
    "    plt.figure(figsize=(12, 6))\n",
    "    genre_count_per_year[genre_to_plot].plot(kind='bar', color='skyblue')\n",
    "    plt.title(f'Genre Production Patterns Over the Years for {genre_to_plot.capitalize()}')\n",
    "    plt.xlabel('Release Year')\n",
    "    plt.ylabel('Number of Productions')\n",
    "    plt.show()\n",
    "else:\n",
    "    print(f\"Genre '{genre_to_plot}' not found in the dataset.\")"
   ]
  }
 ],
 "metadata": {
  "kernelspec": {
   "display_name": "Python 3 (ipykernel)",
   "language": "python",
   "name": "python3"
  },
  "language_info": {
   "codemirror_mode": {
    "name": "ipython",
    "version": 3
   },
   "file_extension": ".py",
   "mimetype": "text/x-python",
   "name": "python",
   "nbconvert_exporter": "python",
   "pygments_lexer": "ipython3",
   "version": "3.10.13"
  }
 },
 "nbformat": 4,
 "nbformat_minor": 5
}
