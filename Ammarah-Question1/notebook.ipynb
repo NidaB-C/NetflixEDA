{
 "cells": [
  {
   "cell_type": "markdown",
   "metadata": {},
   "source": [
    "Analysing Netflix TV Show Trends: Maturity Rating\n",
    "\n",
    "This notebook will look into the maturity ratings of Netflix TV shows and its evolution since Netflix became a streaming service in 2007. As well as defining the different categories, this notebook will also analyse the trends of maturity ratings, popularity of shows based on maturity ratings as well as its correlations with genres, imdb scores and audience demographics."
   ]
  },
  {
   "cell_type": "code",
   "execution_count": 29,
   "metadata": {},
   "outputs": [],
   "source": [
    "# Import Modules/Dependancies\n",
    "import matplotlib.pyplot as plt\n",
    "import numpy as np\n",
    "import pandas as pd\n",
    "import seaborn as sns\n",
    "import scipy.stats as st \n",
    "import ast"
   ]
  },
  {
   "cell_type": "code",
   "execution_count": 30,
   "metadata": {},
   "outputs": [
    {
     "data": {
      "text/html": [
       "<div>\n",
       "<style scoped>\n",
       "    .dataframe tbody tr th:only-of-type {\n",
       "        vertical-align: middle;\n",
       "    }\n",
       "\n",
       "    .dataframe tbody tr th {\n",
       "        vertical-align: top;\n",
       "    }\n",
       "\n",
       "    .dataframe thead th {\n",
       "        text-align: right;\n",
       "    }\n",
       "</style>\n",
       "<table border=\"1\" class=\"dataframe\">\n",
       "  <thead>\n",
       "    <tr style=\"text-align: right;\">\n",
       "      <th></th>\n",
       "      <th>title</th>\n",
       "      <th>release_year</th>\n",
       "      <th>age_certification</th>\n",
       "      <th>runtime</th>\n",
       "      <th>language</th>\n",
       "      <th>genres</th>\n",
       "      <th>production_countries</th>\n",
       "      <th>seasons</th>\n",
       "      <th>imdb_score</th>\n",
       "      <th>imdb_votes</th>\n",
       "    </tr>\n",
       "  </thead>\n",
       "  <tbody>\n",
       "    <tr>\n",
       "      <th>0</th>\n",
       "      <td>Monty Python's Flying Circus</td>\n",
       "      <td>1969</td>\n",
       "      <td>TV-14</td>\n",
       "      <td>30</td>\n",
       "      <td>English, Arabic, French, German, Italian, Mand...</td>\n",
       "      <td>['comedy', 'european']</td>\n",
       "      <td>['GB']</td>\n",
       "      <td>4.0</td>\n",
       "      <td>8.8</td>\n",
       "      <td>72895.0</td>\n",
       "    </tr>\n",
       "    <tr>\n",
       "      <th>1</th>\n",
       "      <td>Monty Python's Fliegender Zirkus</td>\n",
       "      <td>1972</td>\n",
       "      <td>TV-MA</td>\n",
       "      <td>43</td>\n",
       "      <td>English, German</td>\n",
       "      <td>['comedy']</td>\n",
       "      <td>[]</td>\n",
       "      <td>1.0</td>\n",
       "      <td>8.1</td>\n",
       "      <td>2144.0</td>\n",
       "    </tr>\n",
       "    <tr>\n",
       "      <th>2</th>\n",
       "      <td>Seinfeld</td>\n",
       "      <td>1989</td>\n",
       "      <td>TV-PG</td>\n",
       "      <td>24</td>\n",
       "      <td>English</td>\n",
       "      <td>['comedy']</td>\n",
       "      <td>['US']</td>\n",
       "      <td>9.0</td>\n",
       "      <td>8.9</td>\n",
       "      <td>302700.0</td>\n",
       "    </tr>\n",
       "    <tr>\n",
       "      <th>3</th>\n",
       "      <td>Knight Rider</td>\n",
       "      <td>1982</td>\n",
       "      <td>TV-PG</td>\n",
       "      <td>51</td>\n",
       "      <td>English</td>\n",
       "      <td>['action', 'scifi', 'crime', 'drama']</td>\n",
       "      <td>['US']</td>\n",
       "      <td>4.0</td>\n",
       "      <td>6.9</td>\n",
       "      <td>33760.0</td>\n",
       "    </tr>\n",
       "    <tr>\n",
       "      <th>4</th>\n",
       "      <td>Thomas &amp; Friends</td>\n",
       "      <td>1984</td>\n",
       "      <td>TV-Y</td>\n",
       "      <td>10</td>\n",
       "      <td>Spanish, French, Chinese, Japanese, English</td>\n",
       "      <td>['family', 'comedy', 'music', 'action', 'anima...</td>\n",
       "      <td>['GB']</td>\n",
       "      <td>24.0</td>\n",
       "      <td>6.5</td>\n",
       "      <td>4948.0</td>\n",
       "    </tr>\n",
       "  </tbody>\n",
       "</table>\n",
       "</div>"
      ],
      "text/plain": [
       "                              title  release_year age_certification  runtime  \\\n",
       "0      Monty Python's Flying Circus          1969             TV-14       30   \n",
       "1  Monty Python's Fliegender Zirkus          1972             TV-MA       43   \n",
       "2                          Seinfeld          1989             TV-PG       24   \n",
       "3                      Knight Rider          1982             TV-PG       51   \n",
       "4                  Thomas & Friends          1984              TV-Y       10   \n",
       "\n",
       "                                            language  \\\n",
       "0  English, Arabic, French, German, Italian, Mand...   \n",
       "1                                    English, German   \n",
       "2                                            English   \n",
       "3                                            English   \n",
       "4        Spanish, French, Chinese, Japanese, English   \n",
       "\n",
       "                                              genres production_countries  \\\n",
       "0                             ['comedy', 'european']               ['GB']   \n",
       "1                                         ['comedy']                   []   \n",
       "2                                         ['comedy']               ['US']   \n",
       "3              ['action', 'scifi', 'crime', 'drama']               ['US']   \n",
       "4  ['family', 'comedy', 'music', 'action', 'anima...               ['GB']   \n",
       "\n",
       "   seasons  imdb_score  imdb_votes  \n",
       "0      4.0         8.8     72895.0  \n",
       "1      1.0         8.1      2144.0  \n",
       "2      9.0         8.9    302700.0  \n",
       "3      4.0         6.9     33760.0  \n",
       "4     24.0         6.5      4948.0  "
      ]
     },
     "execution_count": 30,
     "metadata": {},
     "output_type": "execute_result"
    }
   ],
   "source": [
    "# Read CSV File\n",
    "netflix_shows = pd.read_csv(\"../Nida-Data/Output/netflix_shows.csv\")\n",
    "\n",
    "# Display DataFrame\n",
    "netflix_shows.head()"
   ]
  },
  {
   "cell_type": "code",
   "execution_count": 31,
   "metadata": {},
   "outputs": [
    {
     "data": {
      "text/html": [
       "<div>\n",
       "<style scoped>\n",
       "    .dataframe tbody tr th:only-of-type {\n",
       "        vertical-align: middle;\n",
       "    }\n",
       "\n",
       "    .dataframe tbody tr th {\n",
       "        vertical-align: top;\n",
       "    }\n",
       "\n",
       "    .dataframe thead th {\n",
       "        text-align: right;\n",
       "    }\n",
       "</style>\n",
       "<table border=\"1\" class=\"dataframe\">\n",
       "  <thead>\n",
       "    <tr style=\"text-align: right;\">\n",
       "      <th></th>\n",
       "      <th>title</th>\n",
       "      <th>release_year</th>\n",
       "      <th>age_certification</th>\n",
       "      <th>runtime</th>\n",
       "      <th>language</th>\n",
       "      <th>genres</th>\n",
       "      <th>production_countries</th>\n",
       "      <th>seasons</th>\n",
       "      <th>imdb_score</th>\n",
       "      <th>imdb_votes</th>\n",
       "    </tr>\n",
       "  </thead>\n",
       "  <tbody>\n",
       "    <tr>\n",
       "      <th>0</th>\n",
       "      <td>Breaking Bad</td>\n",
       "      <td>2008</td>\n",
       "      <td>TV-MA</td>\n",
       "      <td>48</td>\n",
       "      <td>English, Spanish</td>\n",
       "      <td>['drama', 'thriller', 'crime']</td>\n",
       "      <td>['US']</td>\n",
       "      <td>5.0</td>\n",
       "      <td>9.5</td>\n",
       "      <td>1727694.0</td>\n",
       "    </tr>\n",
       "    <tr>\n",
       "      <th>1</th>\n",
       "      <td>The Walking Dead</td>\n",
       "      <td>2010</td>\n",
       "      <td>TV-MA</td>\n",
       "      <td>46</td>\n",
       "      <td>English</td>\n",
       "      <td>['action', 'drama', 'scifi', 'thriller', 'horr...</td>\n",
       "      <td>['US']</td>\n",
       "      <td>11.0</td>\n",
       "      <td>8.2</td>\n",
       "      <td>945125.0</td>\n",
       "    </tr>\n",
       "    <tr>\n",
       "      <th>2</th>\n",
       "      <td>Downton Abbey</td>\n",
       "      <td>2010</td>\n",
       "      <td>TV-14</td>\n",
       "      <td>58</td>\n",
       "      <td>English</td>\n",
       "      <td>['drama', 'romance', 'european']</td>\n",
       "      <td>['GB']</td>\n",
       "      <td>6.0</td>\n",
       "      <td>8.7</td>\n",
       "      <td>197744.0</td>\n",
       "    </tr>\n",
       "    <tr>\n",
       "      <th>3</th>\n",
       "      <td>The Great British Baking Show</td>\n",
       "      <td>2010</td>\n",
       "      <td>TV-PG</td>\n",
       "      <td>57</td>\n",
       "      <td>English</td>\n",
       "      <td>['reality', 'european']</td>\n",
       "      <td>['GB']</td>\n",
       "      <td>12.0</td>\n",
       "      <td>8.6</td>\n",
       "      <td>9564.0</td>\n",
       "    </tr>\n",
       "    <tr>\n",
       "      <th>4</th>\n",
       "      <td>Community</td>\n",
       "      <td>2009</td>\n",
       "      <td>TV-PG</td>\n",
       "      <td>23</td>\n",
       "      <td>English</td>\n",
       "      <td>['comedy']</td>\n",
       "      <td>['US']</td>\n",
       "      <td>6.0</td>\n",
       "      <td>8.5</td>\n",
       "      <td>252564.0</td>\n",
       "    </tr>\n",
       "  </tbody>\n",
       "</table>\n",
       "</div>"
      ],
      "text/plain": [
       "                           title  release_year age_certification  runtime  \\\n",
       "0                   Breaking Bad          2008             TV-MA       48   \n",
       "1               The Walking Dead          2010             TV-MA       46   \n",
       "2                  Downton Abbey          2010             TV-14       58   \n",
       "3  The Great British Baking Show          2010             TV-PG       57   \n",
       "4                      Community          2009             TV-PG       23   \n",
       "\n",
       "           language                                             genres  \\\n",
       "0  English, Spanish                     ['drama', 'thriller', 'crime']   \n",
       "1           English  ['action', 'drama', 'scifi', 'thriller', 'horr...   \n",
       "2           English                   ['drama', 'romance', 'european']   \n",
       "3           English                            ['reality', 'european']   \n",
       "4           English                                         ['comedy']   \n",
       "\n",
       "  production_countries  seasons  imdb_score  imdb_votes  \n",
       "0               ['US']      5.0         9.5   1727694.0  \n",
       "1               ['US']     11.0         8.2    945125.0  \n",
       "2               ['GB']      6.0         8.7    197744.0  \n",
       "3               ['GB']     12.0         8.6      9564.0  \n",
       "4               ['US']      6.0         8.5    252564.0  "
      ]
     },
     "execution_count": 31,
     "metadata": {},
     "output_type": "execute_result"
    }
   ],
   "source": [
    "# Filter DataFrame from 2007 \n",
    "netflix_years = netflix_shows[(netflix_shows['release_year'] >= 2007)].dropna().reset_index(drop=True)\n",
    "\n",
    "# Display filtered DataFrame\n",
    "netflix_years.head()"
   ]
  },
  {
   "cell_type": "code",
   "execution_count": 50,
   "metadata": {},
   "outputs": [
    {
     "data": {
      "text/html": [
       "<div>\n",
       "<style scoped>\n",
       "    .dataframe tbody tr th:only-of-type {\n",
       "        vertical-align: middle;\n",
       "    }\n",
       "\n",
       "    .dataframe tbody tr th {\n",
       "        vertical-align: top;\n",
       "    }\n",
       "\n",
       "    .dataframe thead th {\n",
       "        text-align: right;\n",
       "    }\n",
       "</style>\n",
       "<table border=\"1\" class=\"dataframe\">\n",
       "  <thead>\n",
       "    <tr style=\"text-align: right;\">\n",
       "      <th></th>\n",
       "      <th>title</th>\n",
       "      <th>release_year</th>\n",
       "      <th>age_certification</th>\n",
       "      <th>runtime</th>\n",
       "      <th>language</th>\n",
       "      <th>genres</th>\n",
       "      <th>production_countries</th>\n",
       "      <th>seasons</th>\n",
       "      <th>imdb_score</th>\n",
       "      <th>imdb_votes</th>\n",
       "    </tr>\n",
       "  </thead>\n",
       "  <tbody>\n",
       "    <tr>\n",
       "      <th>0</th>\n",
       "      <td>Breaking Bad</td>\n",
       "      <td>2008</td>\n",
       "      <td>TV-MA</td>\n",
       "      <td>48</td>\n",
       "      <td>English, Spanish</td>\n",
       "      <td>drama</td>\n",
       "      <td>['US']</td>\n",
       "      <td>5.0</td>\n",
       "      <td>9.5</td>\n",
       "      <td>1727694.0</td>\n",
       "    </tr>\n",
       "    <tr>\n",
       "      <th>0</th>\n",
       "      <td>Breaking Bad</td>\n",
       "      <td>2008</td>\n",
       "      <td>TV-MA</td>\n",
       "      <td>48</td>\n",
       "      <td>English, Spanish</td>\n",
       "      <td>thriller</td>\n",
       "      <td>['US']</td>\n",
       "      <td>5.0</td>\n",
       "      <td>9.5</td>\n",
       "      <td>1727694.0</td>\n",
       "    </tr>\n",
       "    <tr>\n",
       "      <th>0</th>\n",
       "      <td>Breaking Bad</td>\n",
       "      <td>2008</td>\n",
       "      <td>TV-MA</td>\n",
       "      <td>48</td>\n",
       "      <td>English, Spanish</td>\n",
       "      <td>crime</td>\n",
       "      <td>['US']</td>\n",
       "      <td>5.0</td>\n",
       "      <td>9.5</td>\n",
       "      <td>1727694.0</td>\n",
       "    </tr>\n",
       "    <tr>\n",
       "      <th>1</th>\n",
       "      <td>The Walking Dead</td>\n",
       "      <td>2010</td>\n",
       "      <td>TV-MA</td>\n",
       "      <td>46</td>\n",
       "      <td>English</td>\n",
       "      <td>action</td>\n",
       "      <td>['US']</td>\n",
       "      <td>11.0</td>\n",
       "      <td>8.2</td>\n",
       "      <td>945125.0</td>\n",
       "    </tr>\n",
       "    <tr>\n",
       "      <th>1</th>\n",
       "      <td>The Walking Dead</td>\n",
       "      <td>2010</td>\n",
       "      <td>TV-MA</td>\n",
       "      <td>46</td>\n",
       "      <td>English</td>\n",
       "      <td>drama</td>\n",
       "      <td>['US']</td>\n",
       "      <td>11.0</td>\n",
       "      <td>8.2</td>\n",
       "      <td>945125.0</td>\n",
       "    </tr>\n",
       "  </tbody>\n",
       "</table>\n",
       "</div>"
      ],
      "text/plain": [
       "              title  release_year age_certification  runtime  \\\n",
       "0      Breaking Bad          2008             TV-MA       48   \n",
       "0      Breaking Bad          2008             TV-MA       48   \n",
       "0      Breaking Bad          2008             TV-MA       48   \n",
       "1  The Walking Dead          2010             TV-MA       46   \n",
       "1  The Walking Dead          2010             TV-MA       46   \n",
       "\n",
       "           language    genres production_countries  seasons  imdb_score  \\\n",
       "0  English, Spanish     drama               ['US']      5.0         9.5   \n",
       "0  English, Spanish  thriller               ['US']      5.0         9.5   \n",
       "0  English, Spanish     crime               ['US']      5.0         9.5   \n",
       "1           English    action               ['US']     11.0         8.2   \n",
       "1           English     drama               ['US']     11.0         8.2   \n",
       "\n",
       "   imdb_votes  \n",
       "0   1727694.0  \n",
       "0   1727694.0  \n",
       "0   1727694.0  \n",
       "1    945125.0  \n",
       "1    945125.0  "
      ]
     },
     "execution_count": 50,
     "metadata": {},
     "output_type": "execute_result"
    }
   ],
   "source": [
    "# Convert 'genres' column into lists\n",
    "netflix_years['genres'] = netflix_years['genres'].apply(lambda x: ast.literal_eval(x) if isinstance(x, str) else x) \n",
    "\n",
    "# Explode the 'genres' column to create a row for each genre associated with a show \n",
    "exploded_genres = netflix_years.explode('genres')\n",
    " \n",
    "# Display the DataFrame with exploded genres \n",
    "exploded_genres.head()"
   ]
  },
  {
   "cell_type": "markdown",
   "metadata": {},
   "source": [
    "Maturity Ratings Of The Top 10 Genres\n",
    "\n",
    "(can use this to etermine which maturity ratings cater to which audience - e.g in drama TV-MA is the most popular/has the most shows listed\n",
    "as its catered to an older audience like young adults - also means netflix creates shows more for adults than children or teens)"
   ]
  },
  {
   "cell_type": "code",
   "execution_count": 136,
   "metadata": {},
   "outputs": [
    {
     "data": {
      "text/plain": [
       "age_certification  genres       \n",
       "TV-MA              drama            474\n",
       "                   crime            239\n",
       "TV-14              drama            238\n",
       "TV-MA              thriller         226\n",
       "                   comedy           213\n",
       "                   action           140\n",
       "                   documentation    139\n",
       "TV-14              comedy           131\n",
       "TV-MA              scifi            121\n",
       "TV-14              romance           90\n",
       "                   scifi             90\n",
       "                   action            84\n",
       "TV-MA              fantasy           84\n",
       "                   romance           83\n",
       "TV-Y7              animation         79\n",
       "TV-14              fantasy           75\n",
       "TV-Y               animation         71\n",
       "TV-Y7              comedy            71\n",
       "TV-MA              horror            66\n",
       "TV-Y7              family            65\n",
       "Name: count, dtype: int64"
      ]
     },
     "execution_count": 136,
     "metadata": {},
     "output_type": "execute_result"
    }
   ],
   "source": [
    "# Filter DataFrame to display age certification and genre count\n",
    "rating_genres = exploded_genres[[\"age_certification\", \"genres\"]].value_counts(ascending=False)\n",
    "\n",
    "rating_genres.head(20)"
   ]
  },
  {
   "cell_type": "code",
   "execution_count": 56,
   "metadata": {},
   "outputs": [],
   "source": [
    "# Configure \n"
   ]
  },
  {
   "cell_type": "code",
   "execution_count": 150,
   "metadata": {},
   "outputs": [
    {
     "data": {
      "text/plain": [
       "genres\n",
       "drama            811\n",
       "comedy           537\n",
       "action           329\n",
       "crime            303\n",
       "animation        303\n",
       "scifi            292\n",
       "thriller         287\n",
       "fantasy          262\n",
       "documentation    240\n",
       "family           213\n",
       "Name: count, dtype: int64"
      ]
     },
     "execution_count": 150,
     "metadata": {},
     "output_type": "execute_result"
    }
   ],
   "source": [
    "# Top 10 genres\n",
    "top_genres = exploded_genres.genres.value_counts(ascending=False)\n",
    "\n",
    "top_genres.head(10)"
   ]
  },
  {
   "cell_type": "code",
   "execution_count": 169,
   "metadata": {},
   "outputs": [
    {
     "data": {
      "text/plain": [
       "<Axes: ylabel='genres,age_certification'>"
      ]
     },
     "execution_count": 169,
     "metadata": {},
     "output_type": "execute_result"
    },
    {
     "data": {
      "image/png": "[encoded data removed]",
      "text/plain": [
       "<Figure size 640x480 with 1 Axes>"
      ]
     },
     "metadata": {},
     "output_type": "display_data"
    }
   ],
   "source": [
    "# Calculate number of maturity ratings of one genre\n",
    "rating_genres[[\"drama\", \"romance\"]].plot(kind=\"barh\", stacked=True)\n",
    "\n",
    "\n",
    "# Calculate the number of shows for each maturity rating within the top 10 genres\n",
    "\n",
    "\n",
    "# Configure stacked bar chart\n",
    "#figure1 = rating_genres.plot.barh(stacked=\"True\", figsize=(10,10))\n",
    "\n",
    "# xaxis= number of shows \n",
    "# yaxis = genre categories\n",
    "# 6 maturity rating categories colour coded\n"
   ]
  },
  {
   "cell_type": "markdown",
   "metadata": {},
   "source": [
    "Comparison of Maturity Rating with IMDB Scores - Which rating performed better?"
   ]
  },
  {
   "cell_type": "code",
   "execution_count": null,
   "metadata": {},
   "outputs": [],
   "source": []
  },
  {
   "cell_type": "markdown",
   "metadata": {},
   "source": [
    "Number of TV shows for each Maturity Rating Category"
   ]
  },
  {
   "cell_type": "code",
   "execution_count": 51,
   "metadata": {},
   "outputs": [
    {
     "data": {
      "text/plain": [
       "age_certification\n",
       "TV-MA    735\n",
       "TV-14    380\n",
       "TV-PG    146\n",
       "TV-Y7     90\n",
       "TV-Y      77\n",
       "TV-G      59\n",
       "Name: count, dtype: int64"
      ]
     },
     "metadata": {},
     "output_type": "display_data"
    }
   ],
   "source": [
    "# Total age_certification count\n",
    "rating_count = netflix_years[\"age_certification\"].value_counts()\n",
    "\n",
    "rating_count.head()\n",
    "display(rating_count)"
   ]
  },
  {
   "cell_type": "code",
   "execution_count": 236,
   "metadata": {},
   "outputs": [
    {
     "data": {
      "image/png": "[encoded data removed]",
      "text/plain": [
       "<Figure size 1000x1000 with 1 Axes>"
      ]
     },
     "metadata": {},
     "output_type": "display_data"
    }
   ],
   "source": [
    "# Configure bar chart and labels\n",
    "figure2 = rating_count.plot(kind=\"bar\", figsize=(10,10),\n",
    "                 title=\"Number of TV Shows per Age Certifcation\",\n",
    "                 xlabel=\"Age Certification Category\",\n",
    "                 ylabel=\"Number of TV Sows\",\n",
    "                 color=\"#596F62\")\n",
    "\n",
    "# Configure x-tick rotation\n",
    "xticklabels = rating_count.index\n",
    "figure2.set_xticklabels(xticklabels, rotation=360)\n",
    "\n",
    "plt.show()"
   ]
  },
  {
   "cell_type": "markdown",
   "metadata": {},
   "source": [
    "Number Of Shows Produced Of The Most Popular Maturity Rating (TV-MA) Since 2007"
   ]
  },
  {
   "cell_type": "code",
   "execution_count": 264,
   "metadata": {},
   "outputs": [
    {
     "data": {
      "text/plain": [
       "Text(0, 0.5, 'Number of TV Shows')"
      ]
     },
     "execution_count": 264,
     "metadata": {},
     "output_type": "execute_result"
    },
    {
     "data": {
      "image/png": "[encoded data removed]",
      "text/plain": [
       "<Figure size 1000x1000 with 1 Axes>"
      ]
     },
     "metadata": {},
     "output_type": "display_data"
    }
   ],
   "source": [
    "# Filter rows with TV-MA rating from 2007 onwards\n",
    "maturity_rating = exploded_genres[exploded_genres[\"age_certification\"].isin([\"TV-MA\"])]\n",
    "\n",
    "# Count the number of TV-MA shows produced each year\n",
    "tv_ma = maturity_rating.groupby(\"release_year\").size().reset_index(name=\"show_number\")\n",
    "\n",
    "# Configure line plot\n",
    "plt.figure(figsize=(10, 10))\n",
    "sns.lineplot(x=\"release_year\", y=\"show_number\", data=tv_ma, marker='o', color='#7EA16B')\n",
    "plt.title(\"Number of TV Shows produced with an MA Rating since 2007\")\n",
    "plt.xlabel(\"Release Year\")\n",
    "plt.ylabel(\"Number of TV Shows\")\n"
   ]
  },
  {
   "cell_type": "markdown",
   "metadata": {},
   "source": [
    "Most Popular/Produced Maturity Rating Per Year Since 2007"
   ]
  },
  {
   "cell_type": "code",
   "execution_count": 258,
   "metadata": {},
   "outputs": [
    {
     "data": {
      "text/html": [
       "<div>\n",
       "<style scoped>\n",
       "    .dataframe tbody tr th:only-of-type {\n",
       "        vertical-align: middle;\n",
       "    }\n",
       "\n",
       "    .dataframe tbody tr th {\n",
       "        vertical-align: top;\n",
       "    }\n",
       "\n",
       "    .dataframe thead th {\n",
       "        text-align: right;\n",
       "    }\n",
       "</style>\n",
       "<table border=\"1\" class=\"dataframe\">\n",
       "  <thead>\n",
       "    <tr style=\"text-align: right;\">\n",
       "      <th></th>\n",
       "      <th>release_year</th>\n",
       "    </tr>\n",
       "    <tr>\n",
       "      <th>age_certification</th>\n",
       "      <th></th>\n",
       "    </tr>\n",
       "  </thead>\n",
       "  <tbody>\n",
       "    <tr>\n",
       "      <th>TV-MA</th>\n",
       "      <td>2008</td>\n",
       "    </tr>\n",
       "    <tr>\n",
       "      <th>TV-MA</th>\n",
       "      <td>2008</td>\n",
       "    </tr>\n",
       "    <tr>\n",
       "      <th>TV-MA</th>\n",
       "      <td>2008</td>\n",
       "    </tr>\n",
       "    <tr>\n",
       "      <th>TV-MA</th>\n",
       "      <td>2010</td>\n",
       "    </tr>\n",
       "    <tr>\n",
       "      <th>TV-MA</th>\n",
       "      <td>2010</td>\n",
       "    </tr>\n",
       "  </tbody>\n",
       "</table>\n",
       "</div>"
      ],
      "text/plain": [
       "                   release_year\n",
       "age_certification              \n",
       "TV-MA                      2008\n",
       "TV-MA                      2008\n",
       "TV-MA                      2008\n",
       "TV-MA                      2010\n",
       "TV-MA                      2010"
      ]
     },
     "execution_count": 258,
     "metadata": {},
     "output_type": "execute_result"
    }
   ],
   "source": [
    "# Filter DataFrame columns\n",
    "maturity_years = exploded_genres[[\"age_certification\", \"release_year\"]]\n",
    "\n",
    "# Set index to age_certification for labelling\n",
    "maturity_years = maturity_years.set_index(\"age_certification\")\n",
    "\n",
    "maturity_years.head()"
   ]
  },
  {
   "cell_type": "code",
   "execution_count": 284,
   "metadata": {},
   "outputs": [
    {
     "name": "stderr",
     "output_type": "stream",
     "text": [
      "No artists with labels found to put in legend.  Note that artists whose label start with an underscore are ignored when legend() is called with no argument.\n"
     ]
    },
    {
     "name": "stderr",
     "output_type": "stream",
     "text": [
      "C:\\Users\\ammar\\AppData\\Local\\Temp\\ipykernel_13440\\949071026.py:19: UserWarning: Matplotlib is currently using module://matplotlib_inline.backend_inline, which is a non-GUI backend, so cannot show the figure.\n",
      "  fig.show()\n"
     ]
    },
    {
     "data": {
      "image/png": "[encoded data removed]",
      "text/plain": [
       "<Figure size 640x480 with 1 Axes>"
      ]
     },
     "metadata": {},
     "output_type": "display_data"
    }
   ],
   "source": [
    "# Filter\n",
    "maturity_years = exploded_genres[exploded_genres[\"age_certification\"].isin([\"TV-MA\", \"TV-14\", \"TV-PG\", \"TV-Y7\", \"TV-Y\", \"TV-G\"])]\n",
    "\n",
    "# Count the number of shows produced each year for every rating\n",
    "#total_rating = maturity_years.groupby(\"release_year\").size().reset_index(name=\"show_number\")\n",
    "\n",
    "# Configure line plot\n",
    "#plt.figure(figsize=(10, 10))\n",
    "#sns.lineplot(x=\"release_year\", y=\"show_number\", data=total_rating, marker='o', color='#7EA16B')\n",
    "#plt.title(\"Number of TV Shows produced with an MA Rating since 2007\")\n",
    "#plt.xlabel(\"Release Year\")\n",
    "#plt.ylabel(\"Number of TV Shows\")\n",
    "#6 different color lines for each tv rating\n",
    "\n",
    "fig, ax = plt.subplots()\n",
    "for labels, dfi in maturity_years.groupby(\"age_certification\"):\n",
    "    total_rating = maturity_years.groupby(\"release_year\").size().reset_index(name=\"show_number\")\n",
    "plt.legend(title = 'age_certification')\n",
    "fig.show()\n"
   ]
  },
  {
   "cell_type": "markdown",
   "metadata": {},
   "source": [
    "Hypothesis Statement 1/Question Response 1:  \n",
    "\n",
    "Conclusion and results of Figure1:"
   ]
  },
  {
   "cell_type": "markdown",
   "metadata": {},
   "source": [
    "Final Analysis/Conclusion of Results/Findings:"
   ]
  }
 ],
 "metadata": {
  "kernelspec": {
   "display_name": "dev",
   "language": "python",
   "name": "python3"
  },
  "language_info": {
   "codemirror_mode": {
    "name": "ipython",
    "version": 3
   },
   "file_extension": ".py",
   "mimetype": "text/x-python",
   "name": "python",
   "nbconvert_exporter": "python",
   "pygments_lexer": "ipython3",
   "version": "3.10.13"
  }
 },
 "nbformat": 4,
 "nbformat_minor": 2
}
